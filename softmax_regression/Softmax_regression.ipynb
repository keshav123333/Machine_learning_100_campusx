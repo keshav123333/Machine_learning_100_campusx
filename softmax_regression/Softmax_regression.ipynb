{
  "nbformat": 4,
  "nbformat_minor": 0,
  "metadata": {
    "colab": {
      "provenance": [],
      "authorship_tag": "ABX9TyOUOAdnwxsNynVQiMiE3nP6",
      "include_colab_link": true
    },
    "kernelspec": {
      "name": "python3",
      "display_name": "Python 3"
    },
    "language_info": {
      "name": "python"
    }
  },
  "cells": [
    {
      "cell_type": "markdown",
      "metadata": {
        "id": "view-in-github",
        "colab_type": "text"
      },
      "source": [
        "<a href=\"https://colab.research.google.com/github/keshav123333/Machine_learning_100_campusx/blob/main/softmax_regression/Softmax_regression.ipynb\" target=\"_parent\"><img src=\"https://colab.research.google.com/assets/colab-badge.svg\" alt=\"Open In Colab\"/></a>"
      ]
    },
    {
      "cell_type": "markdown",
      "source": [
        "softmax mein hum har ek lable like 0 1 2 har ek ke liye weight and vo lete watch video imp hai bahut zayda\n",
        "[link text](https://www.youtube.com/watch?v=Z8noL_0M4tw&list=PLKnIA16_Rmvbr7zKYQuBfsVkjoLcJgxHH&index=77)\n"
      ],
      "metadata": {
        "id": "R6OsCzOcseUa"
      }
    },
    {
      "cell_type": "code",
      "source": [
        "from sklearn.linear_model import LogisticRegression\n",
        "clf=LogisticRegression(multi_class='multinomial')"
      ],
      "metadata": {
        "id": "pVioQw4BnzRi"
      },
      "execution_count": null,
      "outputs": []
    },
    {
      "cell_type": "code",
      "source": [],
      "metadata": {
        "id": "8RRKTs-_s5FP"
      },
      "execution_count": null,
      "outputs": []
    }
  ]
}