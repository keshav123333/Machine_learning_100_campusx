{
  "nbformat": 4,
  "nbformat_minor": 0,
  "metadata": {
    "colab": {
      "provenance": [],
      "authorship_tag": "ABX9TyPQZEA0eWYH5Oh/IVqAyrgu",
      "include_colab_link": true
    },
    "kernelspec": {
      "name": "python3",
      "display_name": "Python 3"
    },
    "language_info": {
      "name": "python"
    }
  },
  "cells": [
    {
      "cell_type": "markdown",
      "metadata": {
        "id": "view-in-github",
        "colab_type": "text"
      },
      "source": [
        "<a href=\"https://colab.research.google.com/github/keshav123333/Machine_learning_100_campusx/blob/main/Feature_Engineering/numerical_to_categories.ipynb\" target=\"_parent\"><img src=\"https://colab.research.google.com/assets/colab-badge.svg\" alt=\"Open In Colab\"/></a>"
      ]
    },
    {
      "cell_type": "code",
      "execution_count": 3,
      "metadata": {
        "id": "UjMYQQ5CVD0Q"
      },
      "outputs": [],
      "source": [
        "import pandas as pd\n",
        "import seaborn as sns"
      ]
    },
    {
      "cell_type": "markdown",
      "source": [
        "#  Binning or discretization\n",
        "\n",
        "isme hum like bins bana dete ki 0-10 wali value iss label ki hongo\n",
        "and like 10-20 wali ko kuch label de dete\n",
        "\n",
        "\n",
        "\n",
        "\n",
        "```\n",
        "Benfits\n",
        "handle outlier\n",
        "```\n",
        "\n",
        "\n",
        "\n"
      ],
      "metadata": {
        "id": "Tkn-EeEIVQCG"
      }
    },
    {
      "cell_type": "markdown",
      "source": [
        "techinques->\n",
        "\n",
        "```\n",
        "\n",
        "1. unsup:\n",
        "  1. equal width -> isme aap bins ko equally baat dete ho like 0 se 10 the 10 20\n",
        "  2. equal frq-> isme freq ke basis pe  maan 0 se satrt hoke utne tak jaha ap\n",
        "  jaha apke inteval mein 10 intevral aa gaye ye aap set karte if maa 0 se 10\n",
        "  mein 10 rows aayi and the 10 12 mein hi agli 10 toh ek dist 0se 10 ka dusra 10 -12 ka\n",
        "  3. kmean binning -> cluster bana deta means like jo values paas mein unhe ek cluster mein daal dega aise alag alag bana dega    \n",
        "2. custom binning\n",
        "```\n"
      ],
      "metadata": {
        "id": "gDt0V0U3VzdI"
      }
    },
    {
      "cell_type": "code",
      "source": [
        "from sklearn.preprocessing import KBinsDiscretizer\n",
        "from sklearn.compose import ColumnTransformer"
      ],
      "metadata": {
        "id": "aNNgfzW-WQqm"
      },
      "execution_count": 6,
      "outputs": []
    },
    {
      "cell_type": "code",
      "source": [
        "df=sns.load_dataset('titanic')\n",
        "df=df.loc[:,[\"age\",\"fare\"]]"
      ],
      "metadata": {
        "id": "YJ_GXxy4k990"
      },
      "execution_count": 7,
      "outputs": []
    },
    {
      "cell_type": "code",
      "source": [
        "df.dropna(inplace=True)"
      ],
      "metadata": {
        "id": "GK7PzxoSlt_C"
      },
      "execution_count": 9,
      "outputs": []
    },
    {
      "cell_type": "code",
      "source": [
        "kbin_age=KBinsDiscretizer(n_bins=10,encode='ordinal',strategy='quantile')\n",
        "kbin_fare=KBinsDiscretizer(n_bins=10,encode='ordinal',strategy='quantile')# so nbins =10 so 10 bins mein dalega 100% data ko so jaise\n",
        "#ek bin mein 10 % data ayega naya bin banega isse change karke bhi dekh sakte ho"
      ],
      "metadata": {
        "id": "qp-fX0bUl0ny"
      },
      "execution_count": 10,
      "outputs": []
    },
    {
      "cell_type": "code",
      "source": [
        "trf=ColumnTransformer([\n",
        "    ('age',kbin_age,[0]),\n",
        "    ('fare',kbin_fare,[1])\n",
        "])\n"
      ],
      "metadata": {
        "id": "FihLsZRmmKaE"
      },
      "execution_count": 19,
      "outputs": []
    },
    {
      "cell_type": "code",
      "source": [
        "xtrain_trf=trf.fit_transform(df)\n",
        ""
      ],
      "metadata": {
        "id": "mZqGuhwlmPJZ"
      },
      "execution_count": 20,
      "outputs": []
    },
    {
      "cell_type": "code",
      "source": [
        "print( trf.named_transformers_[\"age\"].n_bins_)\n",
        "print( trf.named_transformers_[\"age\"].bin_edges_)# ye dega ki bin kis range pe divide for age"
      ],
      "metadata": {
        "colab": {
          "base_uri": "https://localhost:8080/"
        },
        "id": "O9wqmMcymWjg",
        "outputId": "5a2a6933-3d28-4784-820b-e0615518a42c"
      },
      "execution_count": 22,
      "outputs": [
        {
          "output_type": "stream",
          "name": "stdout",
          "text": [
            "[10]\n",
            "[array([ 0.42, 14.  , 19.  , 22.  , 25.  , 28.  , 31.8 , 36.  , 41.  ,\n",
            "        50.  , 80.  ])                                                ]\n"
          ]
        }
      ]
    },
    {
      "cell_type": "code",
      "source": [
        "xtrain_trf.shape #isse datframe bana ke"
      ],
      "metadata": {
        "colab": {
          "base_uri": "https://localhost:8080/"
        },
        "id": "RMixBThdmXoS",
        "outputId": "f8124618-e54c-44c4-ca17-256c7cb1992e"
      },
      "execution_count": 23,
      "outputs": [
        {
          "output_type": "execute_result",
          "data": {
            "text/plain": [
              "(714, 2)"
            ]
          },
          "metadata": {},
          "execution_count": 23
        }
      ]
    },
    {
      "cell_type": "code",
      "source": [
        ">"
      ],
      "metadata": {
        "id": "oKxVxWNkjHem"
      },
      "execution_count": null,
      "outputs": []
    }
  ]
}
